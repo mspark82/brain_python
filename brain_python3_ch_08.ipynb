{
 "cells": [
  {
   "cell_type": "markdown",
   "metadata": {},
   "source": [
    "# 8장 모듈과 패키지"
   ]
  },
  {
   "cell_type": "code",
   "execution_count": 1,
   "metadata": {},
   "outputs": [],
   "source": [
    "import 모듈 # .py는 생략\n",
    "\n",
    "from 모듈 import 변수1, 변수2, 함수1, 함수2\n",
    "\n",
    "from 모듈 import * # 와일드카드로 사용 가능하나 변수나 함수명을 명시하는 것을 권장함. 코드 가독성이 떨어짐\n",
    "\n",
    "import 모듈 as md # 새로운 이름으로 지정 가능\n"
   ]
  },
  {
   "cell_type": "code",
   "execution_count": 5,
   "metadata": {},
   "outputs": [
    {
     "name": "stdout",
     "output_type": "stream",
     "text": [
      "('_abc', '_ast', '_codecs', '_collections', '_functools', '_imp', '_io', '_locale', '_operator', '_signal', '_sre', '_stat', '_string', '_symtable', '_thread', '_tracemalloc', '_warnings', '_weakref', 'atexit', 'builtins', 'errno', 'faulthandler', 'gc', 'itertools', 'marshal', 'posix', 'pwd', 'sys', 'time', 'xxsubtype', 'zipimport')\n",
      "/Users/hugh.park/Notebook/brain_python\n",
      "/Library/Frameworks/Python.framework/Versions/3.7/lib/python37.zip\n",
      "/Library/Frameworks/Python.framework/Versions/3.7/lib/python3.7\n",
      "/Library/Frameworks/Python.framework/Versions/3.7/lib/python3.7/lib-dynload\n",
      "\n",
      "/Library/Frameworks/Python.framework/Versions/3.7/lib/python3.7/site-packages\n",
      "/Library/Frameworks/Python.framework/Versions/3.7/lib/python3.7/site-packages/IPython/extensions\n",
      "/Users/hugh.park/.ipython\n"
     ]
    }
   ],
   "source": [
    "import sys\n",
    "print(sys.builtin_module_names)\n",
    "\n",
    "for path in sys.path:\n",
    "    print(path)"
   ]
  },
  {
   "cell_type": "code",
   "execution_count": 8,
   "metadata": {},
   "outputs": [
    {
     "name": "stdout",
     "output_type": "stream",
     "text": [
      "name : __main__\n"
     ]
    }
   ],
   "source": [
    "# 내장 전역변수 __name__가 모듈이 최상위 수준으로 실행될때 __main__으로 지정됨\n",
    "print('name : {0}'.format(__name__))"
   ]
  },
  {
   "cell_type": "markdown",
   "metadata": {},
   "source": [
    "패키지 : __init__.py 파일을 가지고 있는 디렉토리\n",
    "\n",
    "site-packages : 파이썬 기본 라이브러리 패키지 외에 추가적인 패키지를 설치하는 디렉토리\n"
   ]
  }
 ],
 "metadata": {
  "kernelspec": {
   "display_name": "Python 3",
   "language": "python",
   "name": "python3"
  },
  "language_info": {
   "codemirror_mode": {
    "name": "ipython",
    "version": 3
   },
   "file_extension": ".py",
   "mimetype": "text/x-python",
   "name": "python",
   "nbconvert_exporter": "python",
   "pygments_lexer": "ipython3",
   "version": "3.7.2"
  }
 },
 "nbformat": 4,
 "nbformat_minor": 2
}
