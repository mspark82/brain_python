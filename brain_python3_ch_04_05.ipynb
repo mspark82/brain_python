{
 "cells": [
  {
   "cell_type": "markdown",
   "metadata": {},
   "source": [
    "# 4장. 데이터 다루기 : 수와 텍스트와 비트"
   ]
  },
  {
   "cell_type": "code",
   "execution_count": 20,
   "metadata": {},
   "outputs": [
    {
     "name": "stdout",
     "output_type": "stream",
     "text": [
      "<class 'int'>\n",
      "<class 'str'>\n",
      "<class 'float'>\n",
      "<class 'str'>\n",
      "<class 'int'>\n"
     ]
    }
   ],
   "source": [
    "# 자료형 (Data Type)\n",
    "i = type(123)\n",
    "s = type('string')\n",
    "f = type(20.5)\n",
    "print(i)\n",
    "print(s)\n",
    "print(f)\n",
    "\n",
    "# 형변환\n",
    "a = 5\n",
    "b = '11'\n",
    "print(type(str(a)))\n",
    "print(type(int(b)))"
   ]
  },
  {
   "cell_type": "code",
   "execution_count": 16,
   "metadata": {
    "scrolled": false
   },
   "outputs": [
    {
     "name": "stdout",
     "output_type": "stream",
     "text": [
      "12\n",
      "True\n",
      "False\n",
      "False\n",
      "True\n",
      "1\n",
      "5\n",
      "-1\n",
      "5\n",
      "3\n"
     ]
    }
   ],
   "source": [
    "a = 'Good Morning'\n",
    "# 문자열 길이\n",
    "print(len(a))\n",
    "\n",
    "# 문자열이 파라미터값으로 시작되는지 판단\n",
    "print(a.startswith('Go'))\n",
    "print(a.startswith('Mo'))\n",
    "\n",
    "# 문자열이 파라미터값으로 끝나는지 판단\n",
    "print(a.endswith('Go'))\n",
    "print(a.endswith('ng'))\n",
    "\n",
    "# 문자열에서 파라미터값 존재하는 위치 찾음 (앞에서부터)\n",
    "# 존재하지 않으면 -1 리턴\n",
    "print(a.find('oo'))\n",
    "print(a.find('M'))\n",
    "print(a.find('x'))\n",
    "\n",
    "# 뒤에서부터 문자 찾음 - find랑 차이를 잘모르겠음\n",
    "print(a.rfind('M'))\n",
    "\n",
    "print(a.count('o'))"
   ]
  },
  {
   "cell_type": "code",
   "execution_count": 25,
   "metadata": {},
   "outputs": [
    {
     "name": "stdout",
     "output_type": "stream",
     "text": [
      "Good\n",
      "Mario 40\n",
      "Luigi 35\n"
     ]
    }
   ],
   "source": [
    "# 연습문제\n",
    "a = 'Good Moning'\n",
    "print(a[:4])\n",
    "\n",
    "b = '{0} {1}'.format('Mario', 40)\n",
    "c = '{name} {age}'.format(name='Luigi', age=35)\n",
    "print(b)\n",
    "print(c)"
   ]
  },
  {
   "cell_type": "markdown",
   "metadata": {},
   "source": [
    "# 5장. 데이터 다루기 : 리스트와 튜플과 딕셔너리"
   ]
  },
  {
   "cell_type": "code",
   "execution_count": 46,
   "metadata": {},
   "outputs": [
    {
     "name": "stdout",
     "output_type": "stream",
     "text": [
      "[1, 2, 3, 4, 5]\n",
      "[1, 2, 3]\n",
      "[1, 2, 3, 4, 5]\n",
      "[4, 5]\n",
      "[1, 2, 3, 4, 5, 6, 7, 8]\n",
      "5\n",
      "[1, 2, 3, 33, 5]\n",
      "[1, 2, 3, 33, 5, 55]\n",
      "[1, 2, 3, 33, 5, 55, 11, 22, 33]\n",
      "[111, 1, 2, 3, 33, 5, 55, 11, 22, 33]\n",
      "[1, 2, 3, 33, 5, 55, 11, 22, 33]\n",
      "[1, 2, 3, 33, 5, 55, 11, 22]\n",
      "5\n",
      "1\n",
      "[1, 2, 3, 5, 11, 22, 33, 55]\n",
      "[55, 33, 22, 11, 5, 3, 2, 1]\n",
      "<class 'list'>\n"
     ]
    }
   ],
   "source": [
    "# 리스트 : java list 크기 고정 아님\n",
    "a = [1,2,3,4,5]\n",
    "print(a)\n",
    "print(a[0:3])\n",
    "print(a[:9])\n",
    "print(a[3:])\n",
    "\n",
    "b = [6,7,8]\n",
    "print(a + b)\n",
    "print(len(a))\n",
    "\n",
    "a[3] = 33\n",
    "print(a)\n",
    "\n",
    "a.append(55)\n",
    "print(a)\n",
    "\n",
    "a.extend([11,22,33])\n",
    "print(a)\n",
    "\n",
    "a.insert(0, 111)\n",
    "print(a)\n",
    "\n",
    "a.remove(111)\n",
    "print(a)\n",
    "\n",
    "a.pop()\n",
    "print(a)\n",
    "\n",
    "print(a.index(55))\n",
    "print(a.count(3))\n",
    "\n",
    "a.sort()\n",
    "print(a)\n",
    "\n",
    "a.reverse()\n",
    "print(a)\n",
    "\n",
    "print(type(a))"
   ]
  },
  {
   "cell_type": "code",
   "execution_count": 70,
   "metadata": {},
   "outputs": [
    {
     "name": "stdout",
     "output_type": "stream",
     "text": [
      "(1, 2, 3, 4)\n",
      "<class 'tuple'>\n",
      "(1,)\n",
      "<class 'tuple'>\n",
      "(1, 2, 3)\n",
      "3\n",
      "1\n",
      "2\n",
      "33\n",
      "100\n",
      "0\n",
      "1\n"
     ]
    }
   ],
   "source": [
    "# 튜플 : java 배열과 동일, 처음 선언시 크기 고정\n",
    "a = (1,2,3,4) # a = 1,2,3,4\n",
    "print(a)\n",
    "print(type(a))\n",
    "\n",
    "b = (1,) # 요소가 하나인 튜플 정의\n",
    "print(b)\n",
    "print(type(b))\n",
    "\n",
    "print(a[:3])\n",
    "\n",
    "print(a[2])\n",
    "#a[2] = 5 # 튜플은 요소 변경 불가, 오류 발생\n",
    "\n",
    "# 패킹 : 여러가지 데이터를 튜플로 묶는 것\n",
    "c = 1,2,'33',100\n",
    "c\n",
    "\n",
    "# 언패킹 : 튜플의 각 요소를 여러 개의 변수에 할당하는 것\n",
    "one, two, three, oh = c\n",
    "print(one)\n",
    "print(two)\n",
    "print(three)\n",
    "print(oh)\n",
    "\n",
    "print(c.index(1))\n",
    "print(c.count(100))"
   ]
  },
  {
   "cell_type": "code",
   "execution_count": 78,
   "metadata": {},
   "outputs": [
    {
     "name": "stdout",
     "output_type": "stream",
     "text": [
      "{'a': 1, 'b': 'bbb'}\n",
      "dict_keys(['a', 'b'])\n",
      "dict_items([('a', 1), ('b', 'bbb')])\n",
      "True\n",
      "{'a': 1}\n"
     ]
    }
   ],
   "source": [
    "# 딕셔너리 : 사용법은 리스트와 유사, key/value 방식\n",
    "dic = {}\n",
    "dic['a'] = 1\n",
    "dic['b'] = 'bbb'\n",
    "print(dic)\n",
    "\n",
    "print(dic.keys())\n",
    "print(dic.items())\n",
    "print('a' in dic.keys())\n",
    "\n",
    "dic.pop('b')\n",
    "print(dic)"
   ]
  },
  {
   "cell_type": "code",
   "execution_count": 79,
   "metadata": {},
   "outputs": [
    {
     "name": "stdout",
     "output_type": "stream",
     "text": [
      "[1, 2, 4, 5]\n"
     ]
    }
   ],
   "source": [
    "# 연습문제\n",
    "a = [1,2,3,4,5]\n",
    "a.pop(2)\n",
    "print(a)"
   ]
  },
  {
   "cell_type": "code",
   "execution_count": null,
   "metadata": {},
   "outputs": [],
   "source": []
  }
 ],
 "metadata": {
  "kernelspec": {
   "display_name": "Python 3",
   "language": "python",
   "name": "python3"
  },
  "language_info": {
   "codemirror_mode": {
    "name": "ipython",
    "version": 3
   },
   "file_extension": ".py",
   "mimetype": "text/x-python",
   "name": "python",
   "nbconvert_exporter": "python",
   "pygments_lexer": "ipython3",
   "version": "3.7.2"
  }
 },
 "nbformat": 4,
 "nbformat_minor": 2
}
