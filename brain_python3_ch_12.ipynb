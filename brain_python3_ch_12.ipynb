{
 "cells": [
  {
   "cell_type": "markdown",
   "metadata": {},
   "source": [
    "# 12장. 뻐꾸기 시계 트위터 봇 만들기(treading.Timer와 OAuth)"
   ]
  },
  {
   "cell_type": "code",
   "execution_count": 1,
   "metadata": {},
   "outputs": [],
   "source": [
    "# threading.Timer"
   ]
  },
  {
   "cell_type": "code",
   "execution_count": 2,
   "metadata": {},
   "outputs": [],
   "source": [
    "# 콜백함수 : 다른코드가 대리 실행하는 함수\n",
    "import threading\n",
    "\n",
    "def function_a():\n",
    "    timer = threading.Timer(10, function_a)  # 주기, 실행할 함수\n",
    "    print(1)\n",
    "    timer.start()"
   ]
  },
  {
   "cell_type": "code",
   "execution_count": 3,
   "metadata": {},
   "outputs": [
    {
     "name": "stdout",
     "output_type": "stream",
     "text": [
      "2019-04-01 13:01:31.280908\n"
     ]
    }
   ],
   "source": [
    "# 콜백함수 외부에서 실행하는 방식\n",
    "import threading\n",
    "import datetime\n",
    "\n",
    "def function_a():\n",
    "    print(\"Timer expired\")\n",
    "    print(datetime.datetime.now())  # 현재 시간 출력\n",
    "\n",
    "print(datetime.datetime.now())\n",
    "threading.Timer(10, function_a).start() # 10초 후 function_a 실행하는 Timer생성 후 start() 호출\n"
   ]
  },
  {
   "cell_type": "code",
   "execution_count": 4,
   "metadata": {},
   "outputs": [
    {
     "name": "stdout",
     "output_type": "stream",
     "text": [
      "Starting timer...\n",
      "1\n"
     ]
    }
   ],
   "source": [
    "# Timer 객체의 시작(start())과 종료(cancel())\n",
    "# 파라미터 없이\n",
    "import threading\n",
    "\n",
    "cnt = 0\n",
    "\n",
    "def on_timer():\n",
    "    global cnt\n",
    "    cnt += 1\n",
    "    print(cnt)\n",
    "    \n",
    "    timer = threading.Timer(1, on_timer)\n",
    "    timer.start()\n",
    "    \n",
    "    if cnt == 10:   # cancel 호출하는 것보다 start() 호출 안하는 것이 더 효율적\n",
    "        print(\"Canceling timer...\")\n",
    "        timer.cancel()\n",
    "\n",
    "print(\"Starting timer...\")\n",
    "on_timer()"
   ]
  },
  {
   "cell_type": "code",
   "execution_count": 1,
   "metadata": {},
   "outputs": [
    {
     "name": "stdout",
     "output_type": "stream",
     "text": [
      "Starting timer...\n",
      "6\n",
      "7\n",
      "8\n",
      "9\n",
      "10\n"
     ]
    }
   ],
   "source": [
    "# 파라미터 추가\n",
    "import threading\n",
    "\n",
    "def on_timer(cnt):\n",
    "    cnt += 1 \n",
    "    print(cnt)\n",
    "    \n",
    "    if cnt < 10:\n",
    "        timer = threading.Timer(1, on_timer, args=[cnt])  # args는 리스트 타입\n",
    "        timer.start()\n",
    "    \n",
    "print(\"Starting timer...\")\n",
    "on_timer(5)\n",
    "    \n",
    "    "
   ]
  },
  {
   "cell_type": "markdown",
   "metadata": {},
   "source": [
    "OAuth (Open Standard for Authorization) \n",
    "    1) 인가를 위한 개방형 표준규약\n",
    "    2) 특정 회사가 자사의 인터넷 서비스 API에 접근할 수 있는 권한을 3rd Party Application 제작자에게 위임하는 방법으로 OAuth를 채택\n",
    "    3) 서비스 제공업체가 애플리케이션에게 필요한 권한을 사용자로부터 인가를 얻어 동작할수 있는 절차를 정의"
   ]
  },
  {
   "cell_type": "code",
   "execution_count": 2,
   "metadata": {},
   "outputs": [
    {
     "name": "stdout",
     "output_type": "stream",
     "text": [
      "2019-04-01 13:02:31.181766\n",
      "뻐꾸기가 뻐꾹뻐꾹뻐꾹뻐꾹뻐꾹뻐꾹뻐꾹뻐꾹뻐꾹뻐꾹뻐꾹뻐꾹뻐꾹\n"
     ]
    }
   ],
   "source": [
    "#import tweepy\n",
    "import datetime\n",
    "import threading\n",
    "\n",
    "def check_time(curr_hour):\n",
    "    dt = datetime.datetime.now()   # 현재시간\n",
    "    #print(dt.hour)\n",
    "    \n",
    "    if curr_hour != dt.hour:\n",
    "        print(dt)\n",
    "        curr_hour = dt.hour\n",
    "        \n",
    "        #consumer_key = \"자신의 consumer_key\"\n",
    "        #consumer_secret = \"자신의 consumer_secret\"\n",
    "        #auth = tweepy.OAuthHandler(consumer_key, consumer_secret)\n",
    "        \n",
    "        #access_token = \"독자의 access_token\"\n",
    "        #access_token_secret = \"독자의 access_token_secret\"\n",
    "        #auth.set_access_token(axcess_token, access_token_secret)\n",
    "        \n",
    "        #api = tweepy.API(auth)\n",
    "        \n",
    "        hour = 0\n",
    "        \n",
    "        if curr_hour == 0:\n",
    "            hour = 24\n",
    "        else:\n",
    "            hour = curr_hour\n",
    "        \n",
    "        #tweet = \"@seanlab \"\n",
    "        tweet = \"뻐꾸기가 \"\n",
    "        for i in range(0, hour):\n",
    "            tweet += \"뻐꾹\"\n",
    "        \n",
    "        #api.update_status(status=tweet)\n",
    "        \n",
    "        print(tweet)\n",
    "    \n",
    "    threading.Timer(1, check_time, args=[curr_hour]).start()\n",
    "\n",
    "if __name__ == '__main__':\n",
    "    check_time(-1)"
   ]
  }
 ],
 "metadata": {
  "kernelspec": {
   "display_name": "Python 3",
   "language": "python",
   "name": "python3"
  },
  "language_info": {
   "codemirror_mode": {
    "name": "ipython",
    "version": 3
   },
   "file_extension": ".py",
   "mimetype": "text/x-python",
   "name": "python",
   "nbconvert_exporter": "python",
   "pygments_lexer": "ipython3",
   "version": "3.7.2"
  }
 },
 "nbformat": 4,
 "nbformat_minor": 2
}
